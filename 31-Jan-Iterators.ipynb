{
 "cells": [
  {
   "cell_type": "code",
   "execution_count": 2,
   "id": "2fcf00ac",
   "metadata": {},
   "outputs": [
    {
     "name": "stdout",
     "output_type": "stream",
     "text": [
      "aa\n",
      "bb\n",
      "cc\n",
      "dd\n"
     ]
    }
   ],
   "source": [
    "l = list('abcd')\n",
    "for i in l:\n",
    "    print(i*2)"
   ]
  },
  {
   "cell_type": "code",
   "execution_count": 18,
   "id": "dee035fa",
   "metadata": {},
   "outputs": [
    {
     "data": {
      "text/plain": [
       "['a', 'b', 'c', 'd']"
      ]
     },
     "execution_count": 18,
     "metadata": {},
     "output_type": "execute_result"
    }
   ],
   "source": [
    "l"
   ]
  },
  {
   "cell_type": "code",
   "execution_count": 19,
   "id": "2b38930b",
   "metadata": {},
   "outputs": [
    {
     "data": {
      "text/plain": [
       "<list_iterator at 0x7fccb1b1baf0>"
      ]
     },
     "execution_count": 19,
     "metadata": {},
     "output_type": "execute_result"
    }
   ],
   "source": [
    "il = iter(l)\n",
    "il"
   ]
  },
  {
   "cell_type": "code",
   "execution_count": 20,
   "id": "b8553480",
   "metadata": {},
   "outputs": [
    {
     "name": "stdout",
     "output_type": "stream",
     "text": [
      "aa\n"
     ]
    }
   ],
   "source": [
    "y = next(il)\n",
    "print(y*2)"
   ]
  },
  {
   "cell_type": "code",
   "execution_count": 10,
   "id": "46593c58",
   "metadata": {},
   "outputs": [
    {
     "name": "stdout",
     "output_type": "stream",
     "text": [
      "Hello\n",
      "bb\n"
     ]
    }
   ],
   "source": [
    "print('Hello')\n",
    "print(y*2)"
   ]
  },
  {
   "cell_type": "code",
   "execution_count": 12,
   "id": "e2c1a1a9",
   "metadata": {},
   "outputs": [
    {
     "name": "stdout",
     "output_type": "stream",
     "text": [
      "bbb\n"
     ]
    }
   ],
   "source": [
    "print(y*3)"
   ]
  },
  {
   "cell_type": "code",
   "execution_count": 14,
   "id": "d26a671b",
   "metadata": {},
   "outputs": [
    {
     "name": "stdout",
     "output_type": "stream",
     "text": [
      "Hello\n",
      "bb\n"
     ]
    }
   ],
   "source": [
    "print('Hello')\n",
    "print(y*2)"
   ]
  },
  {
   "cell_type": "code",
   "execution_count": 15,
   "id": "d8ab9337",
   "metadata": {},
   "outputs": [
    {
     "name": "stdout",
     "output_type": "stream",
     "text": [
      "cc\n"
     ]
    }
   ],
   "source": [
    "y = next(il)\n",
    "print(y*2)"
   ]
  },
  {
   "cell_type": "code",
   "execution_count": 16,
   "id": "d71eae16",
   "metadata": {},
   "outputs": [
    {
     "name": "stdout",
     "output_type": "stream",
     "text": [
      "dd\n"
     ]
    }
   ],
   "source": [
    "y = next(il)\n",
    "print(y*2)"
   ]
  },
  {
   "cell_type": "code",
   "execution_count": 21,
   "id": "53d70ae1",
   "metadata": {},
   "outputs": [
    {
     "name": "stdout",
     "output_type": "stream",
     "text": [
      "bb\n"
     ]
    }
   ],
   "source": [
    "X = next(il)\n",
    "print(X*2)"
   ]
  },
  {
   "cell_type": "code",
   "execution_count": 23,
   "id": "3e66bc9c",
   "metadata": {},
   "outputs": [
    {
     "name": "stdout",
     "output_type": "stream",
     "text": [
      "dd\n"
     ]
    }
   ],
   "source": [
    "Z = next(il)\n",
    "print(Z*2)"
   ]
  },
  {
   "cell_type": "code",
   "execution_count": 25,
   "id": "e3fff6ae",
   "metadata": {},
   "outputs": [
    {
     "name": "stdout",
     "output_type": "stream",
     "text": [
      "a\n",
      "b\n",
      "c\n",
      "d\n"
     ]
    }
   ],
   "source": [
    "il = iter(l)\n",
    "for i in l:\n",
    "    print(i)"
   ]
  },
  {
   "cell_type": "code",
   "execution_count": 31,
   "id": "107e7117",
   "metadata": {},
   "outputs": [
    {
     "name": "stdout",
     "output_type": "stream",
     "text": [
      "a\n",
      "b\n",
      "c\n",
      "d\n"
     ]
    },
    {
     "ename": "StopIteration",
     "evalue": "",
     "output_type": "error",
     "traceback": [
      "\u001b[0;31m---------------------------------------------------------------------------\u001b[0m",
      "\u001b[0;31mStopIteration\u001b[0m                             Traceback (most recent call last)",
      "\u001b[0;32m/var/folders/5p/qghr81ks3hz5gx79xt8b0d300000gn/T/ipykernel_2081/2496562083.py\u001b[0m in \u001b[0;36m<module>\u001b[0;34m\u001b[0m\n\u001b[1;32m      1\u001b[0m \u001b[0mil1\u001b[0m \u001b[0;34m=\u001b[0m \u001b[0miter\u001b[0m\u001b[0;34m(\u001b[0m\u001b[0ml\u001b[0m\u001b[0;34m)\u001b[0m\u001b[0;34m\u001b[0m\u001b[0;34m\u001b[0m\u001b[0m\n\u001b[1;32m      2\u001b[0m \u001b[0;32mwhile\u001b[0m \u001b[0;36m1\u001b[0m\u001b[0;34m:\u001b[0m\u001b[0;34m\u001b[0m\u001b[0;34m\u001b[0m\u001b[0m\n\u001b[0;32m----> 3\u001b[0;31m     \u001b[0mprint\u001b[0m\u001b[0;34m(\u001b[0m\u001b[0mnext\u001b[0m\u001b[0;34m(\u001b[0m\u001b[0mil1\u001b[0m\u001b[0;34m)\u001b[0m\u001b[0;34m)\u001b[0m\u001b[0;34m\u001b[0m\u001b[0;34m\u001b[0m\u001b[0m\n\u001b[0m",
      "\u001b[0;31mStopIteration\u001b[0m: "
     ]
    }
   ],
   "source": [
    "il1 = iter(l)\n",
    "while 1:\n",
    "    print(next(il1))"
   ]
  },
  {
   "cell_type": "code",
   "execution_count": 33,
   "id": "3ab0ef6c",
   "metadata": {},
   "outputs": [
    {
     "name": "stdout",
     "output_type": "stream",
     "text": [
      "a\n",
      "b\n",
      "c\n",
      "d\n"
     ]
    }
   ],
   "source": [
    "il = iter(l)\n",
    "while 1:\n",
    "    try:\n",
    "        print(next(il))\n",
    "    except StopIteration:\n",
    "        break"
   ]
  },
  {
   "cell_type": "code",
   "execution_count": 38,
   "id": "243c9a6e",
   "metadata": {},
   "outputs": [
    {
     "name": "stdout",
     "output_type": "stream",
     "text": [
      "d\n",
      "c\n",
      "b\n",
      "a\n"
     ]
    },
    {
     "ename": "StopIteration",
     "evalue": "",
     "output_type": "error",
     "traceback": [
      "\u001b[0;31m---------------------------------------------------------------------------\u001b[0m",
      "\u001b[0;31mStopIteration\u001b[0m                             Traceback (most recent call last)",
      "\u001b[0;32m/var/folders/5p/qghr81ks3hz5gx79xt8b0d300000gn/T/ipykernel_2081/3293241545.py\u001b[0m in \u001b[0;36m<module>\u001b[0;34m\u001b[0m\n\u001b[1;32m      1\u001b[0m \u001b[0mil\u001b[0m \u001b[0;34m=\u001b[0m \u001b[0miter\u001b[0m\u001b[0;34m(\u001b[0m\u001b[0ml\u001b[0m\u001b[0;34m[\u001b[0m\u001b[0;34m:\u001b[0m\u001b[0;34m:\u001b[0m\u001b[0;34m-\u001b[0m\u001b[0;36m1\u001b[0m\u001b[0;34m]\u001b[0m\u001b[0;34m)\u001b[0m\u001b[0;34m\u001b[0m\u001b[0;34m\u001b[0m\u001b[0m\n\u001b[1;32m      2\u001b[0m \u001b[0;32mwhile\u001b[0m \u001b[0;36m1\u001b[0m\u001b[0;34m:\u001b[0m\u001b[0;34m\u001b[0m\u001b[0;34m\u001b[0m\u001b[0m\n\u001b[0;32m----> 3\u001b[0;31m     \u001b[0mprint\u001b[0m\u001b[0;34m(\u001b[0m\u001b[0mnext\u001b[0m\u001b[0;34m(\u001b[0m\u001b[0mil\u001b[0m\u001b[0;34m)\u001b[0m\u001b[0;34m)\u001b[0m\u001b[0;34m\u001b[0m\u001b[0;34m\u001b[0m\u001b[0m\n\u001b[0m",
      "\u001b[0;31mStopIteration\u001b[0m: "
     ]
    }
   ],
   "source": [
    "il = iter(l[::-1])\n",
    "while 1:\n",
    "    print(next(il))"
   ]
  },
  {
   "cell_type": "code",
   "execution_count": 40,
   "id": "67c5e7a9",
   "metadata": {},
   "outputs": [
    {
     "name": "stdout",
     "output_type": "stream",
     "text": [
      "[0, 1, 2]\n"
     ]
    }
   ],
   "source": [
    "def somelist(n):\n",
    "    l = list(range(n))\n",
    "    return l\n",
    "print(somelist(3))"
   ]
  },
  {
   "cell_type": "code",
   "execution_count": 42,
   "id": "ecd62e32",
   "metadata": {},
   "outputs": [
    {
     "name": "stdout",
     "output_type": "stream",
     "text": [
      "(1, 2, 3)\n"
     ]
    }
   ],
   "source": [
    "def yo():\n",
    "    x=1\n",
    "    y=2\n",
    "    z=3\n",
    "    return x,y,z\n",
    "    print('Hello')\n",
    "q = yo()\n",
    "print(q)"
   ]
  },
  {
   "cell_type": "code",
   "execution_count": 44,
   "id": "d1a722a7",
   "metadata": {},
   "outputs": [
    {
     "name": "stdout",
     "output_type": "stream",
     "text": [
      "(1, 2, 3)\n"
     ]
    }
   ],
   "source": [
    "def yo1():\n",
    "    x=1\n",
    "    yield x\n",
    "    y=2\n",
    "    yield y\n",
    "    z=3\n",
    "    yield z\n",
    "    print('Hello')\n",
    "    return x,y,z\n",
    "q = yo()    \n",
    "print(q)"
   ]
  },
  {
   "cell_type": "code",
   "execution_count": 49,
   "id": "04281d75",
   "metadata": {},
   "outputs": [
    {
     "name": "stdout",
     "output_type": "stream",
     "text": [
      "1\n",
      "2\n",
      "3\n",
      "Hello\n"
     ]
    }
   ],
   "source": [
    "# yo()\n",
    "for i in yo1():\n",
    "    print(i)"
   ]
  },
  {
   "cell_type": "code",
   "execution_count": 51,
   "id": "7daaaae5",
   "metadata": {},
   "outputs": [
    {
     "data": {
      "text/plain": [
       "<generator object yo1 at 0x7fcc9075e9e0>"
      ]
     },
     "execution_count": 51,
     "metadata": {},
     "output_type": "execute_result"
    }
   ],
   "source": [
    "yo1()"
   ]
  },
  {
   "cell_type": "code",
   "execution_count": 53,
   "id": "e8bd23bc",
   "metadata": {},
   "outputs": [
    {
     "name": "stdout",
     "output_type": "stream",
     "text": [
      "0\n",
      "1\n",
      "2\n",
      "3\n",
      "4\n"
     ]
    }
   ],
   "source": [
    "def genfunc(n):\n",
    "    num = 0\n",
    "    while True:\n",
    "        yield num\n",
    "        if num == n-1:\n",
    "            return\n",
    "        else:\n",
    "            num = num+1\n",
    "            \n",
    "n = 5000\n",
    "for x in genfunc(5):\n",
    "    print(x)      "
   ]
  }
 ],
 "metadata": {
  "kernelspec": {
   "display_name": "Python 3 (ipykernel)",
   "language": "python",
   "name": "python3"
  },
  "language_info": {
   "codemirror_mode": {
    "name": "ipython",
    "version": 3
   },
   "file_extension": ".py",
   "mimetype": "text/x-python",
   "name": "python",
   "nbconvert_exporter": "python",
   "pygments_lexer": "ipython3",
   "version": "3.9.13"
  }
 },
 "nbformat": 4,
 "nbformat_minor": 5
}
